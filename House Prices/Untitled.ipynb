{
 "cells": [
  {
   "cell_type": "code",
   "execution_count": 2,
   "id": "e6c57f2e",
   "metadata": {},
   "outputs": [],
   "source": [
    "import requests\n",
    "from bs4 import BeautifulSoup"
   ]
  },
  {
   "cell_type": "code",
   "execution_count": 9,
   "id": "1dd28072",
   "metadata": {},
   "outputs": [],
   "source": [
    "url = \"https://nigeriapropertycentre.com/for-rent/flats-apartments/lagos/showtype\"\n",
    "get_url = requests.get(url)"
   ]
  },
  {
   "cell_type": "code",
   "execution_count": 10,
   "id": "52df3c22",
   "metadata": {},
   "outputs": [],
   "source": [
    "html = BeautifulSoup(get_url.text, \"html5lib\")y"
   ]
  },
  {
   "cell_type": "code",
   "execution_count": 22,
   "id": "d932b963",
   "metadata": {},
   "outputs": [],
   "source": [
    "s = []"
   ]
  },
  {
   "cell_type": "code",
   "execution_count": 32,
   "id": "e93c2062",
   "metadata": {},
   "outputs": [],
   "source": [
    "for i in html.find_all(\"i\", \"fal fa-map-marker\"):\n",
    "    for k in i.children:\n",
    "        s.append(k)"
   ]
  },
  {
   "cell_type": "code",
   "execution_count": 33,
   "id": "1ea4c473",
   "metadata": {},
   "outputs": [
    {
     "data": {
      "text/plain": [
       "[None,\n",
       " None,\n",
       " <i class=\"fal fa-map-marker\"></i>,\n",
       " <i class=\"fal fa-map-marker\"></i>,\n",
       " <i class=\"fal fa-map-marker\"></i>,\n",
       " <i class=\"fal fa-map-marker\"></i>,\n",
       " <i class=\"fal fa-map-marker\"></i>,\n",
       " <i class=\"fal fa-map-marker\"></i>,\n",
       " <i class=\"fal fa-map-marker\"></i>,\n",
       " <i class=\"fal fa-map-marker\"></i>,\n",
       " <i class=\"fal fa-map-marker\"></i>,\n",
       " <i class=\"fal fa-map-marker\"></i>,\n",
       " None,\n",
       " <i class=\"fal fa-map-marker\"></i>,\n",
       " <i class=\"fal fa-map-marker\"></i>,\n",
       " <i class=\"fal fa-map-marker\"></i>,\n",
       " <i class=\"fal fa-map-marker\"></i>,\n",
       " <i class=\"fal fa-map-marker\"></i>,\n",
       " <i class=\"fal fa-map-marker\"></i>,\n",
       " <i class=\"fal fa-map-marker\"></i>,\n",
       " <i class=\"fal fa-map-marker\"></i>,\n",
       " <i class=\"fal fa-map-marker\"></i>,\n",
       " <i class=\"fal fa-map-marker\"></i>,\n",
       " <i class=\"fal fa-map-marker\"></i>,\n",
       " None,\n",
       " None,\n",
       " None,\n",
       " '',\n",
       " '',\n",
       " '',\n",
       " '',\n",
       " '',\n",
       " '',\n",
       " '',\n",
       " '',\n",
       " '',\n",
       " '',\n",
       " '',\n",
       " '',\n",
       " '',\n",
       " '',\n",
       " '',\n",
       " '',\n",
       " '',\n",
       " '',\n",
       " '',\n",
       " '',\n",
       " '',\n",
       " <i class=\"fal fa-map-marker\"></i>,\n",
       " <i class=\"fal fa-map-marker\"></i>,\n",
       " <i class=\"fal fa-map-marker\"></i>,\n",
       " <i class=\"fal fa-map-marker\"></i>,\n",
       " <i class=\"fal fa-map-marker\"></i>,\n",
       " <i class=\"fal fa-map-marker\"></i>,\n",
       " <i class=\"fal fa-map-marker\"></i>,\n",
       " <i class=\"fal fa-map-marker\"></i>,\n",
       " <i class=\"fal fa-map-marker\"></i>,\n",
       " <i class=\"fal fa-map-marker\"></i>,\n",
       " <i class=\"fal fa-map-marker\"></i>,\n",
       " <i class=\"fal fa-map-marker\"></i>,\n",
       " <i class=\"fal fa-map-marker\"></i>,\n",
       " <i class=\"fal fa-map-marker\"></i>,\n",
       " <i class=\"fal fa-map-marker\"></i>,\n",
       " <i class=\"fal fa-map-marker\"></i>,\n",
       " <i class=\"fal fa-map-marker\"></i>,\n",
       " <i class=\"fal fa-map-marker\"></i>,\n",
       " <i class=\"fal fa-map-marker\"></i>,\n",
       " <i class=\"fal fa-map-marker\"></i>,\n",
       " <i class=\"fal fa-map-marker\"></i>]"
      ]
     },
     "execution_count": 33,
     "metadata": {},
     "output_type": "execute_result"
    }
   ],
   "source": [
    "s"
   ]
  },
  {
   "cell_type": "code",
   "execution_count": null,
   "id": "130e7cc5",
   "metadata": {},
   "outputs": [],
   "source": []
  }
 ],
 "metadata": {
  "kernelspec": {
   "display_name": "Python 3 (ipykernel)",
   "language": "python",
   "name": "python3"
  },
  "language_info": {
   "codemirror_mode": {
    "name": "ipython",
    "version": 3
   },
   "file_extension": ".py",
   "mimetype": "text/x-python",
   "name": "python",
   "nbconvert_exporter": "python",
   "pygments_lexer": "ipython3",
   "version": "3.9.5"
  }
 },
 "nbformat": 4,
 "nbformat_minor": 5
}
